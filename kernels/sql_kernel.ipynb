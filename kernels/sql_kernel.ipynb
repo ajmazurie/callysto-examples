{
 "cells": [
  {
   "cell_type": "markdown",
   "metadata": {},
   "source": [
    "# SQL Kernel (Demonstration)\n",
    "This is a demonstration of a SQL kernel for Jupyter built with the [Callysto](https://github.com/ajmazurie/Callysto) project.\n",
    "\n",
    "Upon creation this kernel creates an in-memory [SQLite](https://www.sqlite.org/) database which can then be manipulated by providing SQL commands. Results, if any, are displayed as tables. A summary of how many rows were affected and/or returned by the last SQL command is also displayed:"
   ]
  },
  {
   "cell_type": "code",
   "execution_count": 13,
   "metadata": {
    "collapsed": false
   },
   "outputs": [
    {
     "name": "stdout",
     "output_type": "stream",
     "text": [
      "statement 1 of 2: no rows returned\n",
      "statement 2 of 2: no rows returned"
     ]
    }
   ],
   "source": [
    "-- drop the table 'stocks' if it already exists\n",
    "DROP TABLE IF EXISTS stocks;\n",
    "\n",
    "-- then create a new one\n",
    "CREATE TABLE stocks (\n",
    "    transaction_date TEXT,\n",
    "    transaction_type TEXT,\n",
    "    symbol TEXT,\n",
    "    qty REAL,\n",
    "    price REAL)"
   ]
  },
  {
   "cell_type": "code",
   "execution_count": 14,
   "metadata": {
    "collapsed": false
   },
   "outputs": [
    {
     "name": "stdout",
     "output_type": "stream",
     "text": [
      "statement 1 of 2: 1 row affected; no rows returned\n",
      "statement 2 of 2: 1 row affected; no rows returned"
     ]
    }
   ],
   "source": [
    "-- insert some example data into this table\n",
    "INSERT INTO stocks VALUES ('2006-01-05', 'BUY', 'RHAT', 100, 35.14);\n",
    "INSERT INTO stocks VALUES ('2006-01-06', 'SELL', 'RHAT', 100, 30.27);"
   ]
  },
  {
   "cell_type": "code",
   "execution_count": 15,
   "metadata": {
    "collapsed": false
   },
   "outputs": [
    {
     "data": {
      "text/html": [
       "<table style=\"border: none\">\n",
       "<tr style=\"border: none\"><th style=\"border: none\">transaction_date</th><th style=\"border: none\">transaction_type</th><th style=\"border: none\">symbol</th><th style=\"border: none\">qty</th><th style=\"border: none\">price</th></tr>\n",
       "<tr><td style=\"border: 1px solid #ccc\"><code>2006-01-05</code></td><td style=\"border: 1px solid #ccc\"><code>BUY</code></td><td style=\"border: 1px solid #ccc\"><code>RHAT</code></td><td style=\"border: 1px solid #ccc\"><code>100.0</code></td><td style=\"border: 1px solid #ccc\"><code>35.14</code></td></tr>\n",
       "<tr><td style=\"border: 1px solid #ccc\"><code>2006-01-06</code></td><td style=\"border: 1px solid #ccc\"><code>SELL</code></td><td style=\"border: 1px solid #ccc\"><code>RHAT</code></td><td style=\"border: 1px solid #ccc\"><code>100.0</code></td><td style=\"border: 1px solid #ccc\"><code>30.27</code></td></tr>\n",
       "</table>"
      ]
     },
     "metadata": {},
     "output_type": "display_data"
    },
    {
     "name": "stdout",
     "output_type": "stream",
     "text": [
      "2 rows returned"
     ]
    }
   ],
   "source": [
    "-- show the whole content of the table\n",
    "SELECT * FROM stocks;"
   ]
  },
  {
   "cell_type": "code",
   "execution_count": 16,
   "metadata": {
    "collapsed": false
   },
   "outputs": [
    {
     "data": {
      "text/html": [
       "<table style=\"border: none\">\n",
       "<tr style=\"border: none\"><th style=\"border: none\">transaction_date</th></tr>\n",
       "<tr><td style=\"border: 1px solid #ccc\"><code>2006-01-06</code></td></tr>\n",
       "</table>"
      ]
     },
     "metadata": {},
     "output_type": "display_data"
    },
    {
     "name": "stdout",
     "output_type": "stream",
     "text": [
      "1 row returned"
     ]
    }
   ],
   "source": [
    "-- show only when stocks were sold\n",
    "SELECT transaction_date FROM stocks WHERE (transaction_type == \"SELL\")"
   ]
  },
  {
   "cell_type": "code",
   "execution_count": 17,
   "metadata": {
    "collapsed": false
   },
   "outputs": [
    {
     "name": "stdout",
     "output_type": "stream",
     "text": [
      "no rows returned"
     ]
    }
   ],
   "source": [
    "-- finally, remove this table (not necessary since the whole\n",
    "-- database is in memory, but a good practice nevertheless)\n",
    "DROP TABLE stocks;"
   ]
  }
 ],
 "metadata": {
  "kernelspec": {
   "display_name": "SQL Kernel",
   "language": "sql",
   "name": "sql kernel"
  },
  "language_info": {
   "file_extension": ".sql",
   "mimetype": "application/sql",
   "name": "sql",
   "version": "SQL:2011"
  }
 },
 "nbformat": 4,
 "nbformat_minor": 0
}
